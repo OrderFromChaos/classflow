{
 "cells": [
  {
   "cell_type": "code",
   "execution_count": 22,
   "metadata": {
    "collapsed": true
   },
   "outputs": [],
   "source": [
    "# Experimenting with automatically pulling data from UCR catalog\n",
    "import re"
   ]
  },
  {
   "cell_type": "code",
   "execution_count": 23,
   "metadata": {
    "collapsed": true
   },
   "outputs": [],
   "source": [
    "with open('UCR_Catalog_1819_web.txt','r') as f:\n",
    "    data = f.readlines()"
   ]
  },
  {
   "cell_type": "code",
   "execution_count": 24,
   "metadata": {
    "collapsed": false
   },
   "outputs": [
    {
     "name": "stdout",
     "output_type": "stream",
     "text": [
      "['ACCREDITATIONS', 'KUCR', 'CHASS', 'CATEGORIES', 'REAPPLICATION', 'IB', 'IB', 'AP', 'AP', 'AP', 'AP', 'AP', 'AP', 'L', 'N', 'K', 'V', 'EDUCATION', 'A', 'REQUIREMENTS', 'T', 'ENGINEERING', 'MANAGEMENT', 'PROGRAMS', 'ART', 'BIOCHEMISTRY', 'BIOENGINEERING', 'BIOENGINEERING', 'INTERDEPARTMENTAL', 'BIOLOGICAL', 'SCIENCES', 'BIOLOGY', 'BIOMEDICAL', 'SCIENCES', 'D', 'N', 'D', 'BIOMEDICAL', 'PROGRAM', 'EMPHASIS', 'ADMINISTRATION', 'U', 'NEUROSCIENCE', 'NEUROSCIENCE', 'DESIGNATED', 'EMPHASIS', 'BIOLOGY', 'PROGRAM', 'ENVIRONMENTAL', 'ENGINEERING', 'ENGINEERING', 'ENVIRONMENTAL', 'ENGINEERING', 'CHEMISTRY', 'BILINGUALBICULTURAL', 'COMPARATIVE', 'LANGUAGES', 'CHINESE', 'CIVILIZATION', 'CLASSICS', 'COMPARATIVE', 'ANCIENT', 'CIVILIZATIONS', 'COMPARATIVE', 'LITERATURE', 'FRENCH', 'MINOR', 'JAPANESE', 'LANGUAGES', 'LINGUISTICS', 'MINOR', 'COURSES', 'ENGINEERING', 'COMPUTER', 'ENGINEERING', 'CONSERVATION', 'BIOLOGY', 'ARTS', 'PROGRAM', 'PROGRAM', 'ELECTRICAL', 'ENGINEERING', 'ENGINEERING', 'ENTOMOLOGY', 'ENVIRONMENTAL', 'ENGINEERING', 'ENVIRONMENTAL', 'SCIENCES', 'ENVIRONMENTAL', 'TOXICOLOGY', 'ORGANISMAL', 'BIOLOGY', 'BIOINFORMATICS', 'PORTUGUESE', 'HISTORY', 'SCIENCES', 'DISEASE', 'DESIGNATED', 'EMPHASIS', 'S', 'A', 'INTERDISCIPLINARY', 'STUDIES', 'INTERNATIONAL', 'MINOR', 'STUDIES', 'DESIGNATED', 'EMPHASIS', 'STUDIES', 'TRANSGENDER', 'MANAGEMENT', 'MINOR', 'MATHEMATICS', 'MECHANICAL', 'ENGINEERING', 'STUDIES', 'DESIGNATED', 'EMPHASIS', 'DESIGNATED', 'EMPHASIS', 'MEDICINE', 'MICROBIOLOGY', 'S', 'N', 'N', 'DESIGNATED', 'EMPHASIS', 'BIOLOGY', 'MUSIC', 'AGRICULTURAL', 'SCIENCES', 'NEMATOLOGY', 'NEUROSCIENCE', 'UNDERGRADUATE', 'MAJOR', 'NEUROSCIENCE', 'GRADUATE', 'PROGRAM', 'CONFLICT', 'PHILOSOPHY', 'ASTRONOMY', 'POPULATION', 'BIOLOGY', 'DESIGNATED', 'EMPHASIS', 'SOCIOLOGY', 'SCIENCES', 'PROGRAM', 'EMPHASIS', 'SPECULATIVE', 'SPECULATIVE', 'EMPHASIS', 'STATISTICS', 'PRODUCTION', 'WASHINGTON', 'ACADEMIC', 'INTERNSHIP', 'MINOR', 'ADMINISTRATORS']\n"
     ]
    }
   ],
   "source": [
    "regex = re.compile('[a-zA-Z\\n]+')\n",
    "regex2 = re.compile('[a-zA-Z]+')\n",
    "allcaps = [''.join(regex2.findall(x)) for x in data if x != '\\n' and x.upper() == x and ''.join(regex.findall(x)) == x]\n",
    "print(allcaps)"
   ]
  },
  {
   "cell_type": "code",
   "execution_count": 15,
   "metadata": {
    "collapsed": false
   },
   "outputs": [
    {
     "data": {
      "text/plain": [
       "'UNIVERSITY\\n'"
      ]
     },
     "execution_count": 15,
     "metadata": {},
     "output_type": "execute_result"
    }
   ],
   "source": [
    "a = re.compile('[a-zA-Z\\n]+')\n",
    "''.join(a.findall(allcaps[0]))"
   ]
  },
  {
   "cell_type": "code",
   "execution_count": null,
   "metadata": {
    "collapsed": true
   },
   "outputs": [],
   "source": []
  }
 ],
 "metadata": {
  "kernelspec": {
   "display_name": "Python 3",
   "language": "python",
   "name": "python3"
  },
  "language_info": {
   "codemirror_mode": {
    "name": "ipython",
    "version": 3
   },
   "file_extension": ".py",
   "mimetype": "text/x-python",
   "name": "python",
   "nbconvert_exporter": "python",
   "pygments_lexer": "ipython3",
   "version": "3.6.0"
  }
 },
 "nbformat": 4,
 "nbformat_minor": 2
}
